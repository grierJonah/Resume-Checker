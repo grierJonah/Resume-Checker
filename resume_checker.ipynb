{
 "cells": [
  {
   "cell_type": "code",
   "execution_count": 2,
   "id": "c4253353-da3f-4785-9d76-74097074a21e",
   "metadata": {},
   "outputs": [],
   "source": [
    "import os\n",
    "import requests\n",
    "from bs4 import BeautifulSoup\n",
    "from pypdf import PdfReader\n",
    "from dotenv import load_dotenv\n",
    "from IPython.display import Markdown, display\n",
    "from openai import OpenAI"
   ]
  },
  {
   "cell_type": "code",
   "execution_count": 5,
   "id": "2e542991-5744-4a12-8e6e-f06ae1cdb752",
   "metadata": {},
   "outputs": [],
   "source": [
    "load_dotenv(override=True)\n",
    "api_key = os.getenv('OPENAI_API_KEY')\n",
    "openai = OpenAI()"
   ]
  },
  {
   "cell_type": "code",
   "execution_count": 32,
   "id": "a67b1f4d-1910-412b-8847-1ea609c3d474",
   "metadata": {},
   "outputs": [],
   "source": [
    "headers = {\n",
    "    \"User-Agent\": \"Mozilla/5.0 (Windows NT 10.0; Win64; x64) AppleWebKit/537.36 (KHTML, like Gecko) Chrome/117.0.0.0 Safari/537.36\"\n",
    "}\n",
    "\n",
    "class Website:\n",
    "    def __init__(self, url):\n",
    "        self.url = url\n",
    "        print(url)\n",
    "        response = requests.get(url, headers=headers)\n",
    "        soup = BeautifulSoup(response.content, 'html.parser')\n",
    "        self.title = soup.title.string if soup.title else \"No Title Found\"\n",
    "        for irrelevant in soup.body(\"script\", \"style\", \"img\", \"input\"):\n",
    "            irrelevant.decompose()\n",
    "        self.text = soup.body.get_text(separator=\"\\n\", strip=True)\n",
    "\n",
    "class Resume:\n",
    "    def __init__(self, resume_path):\n",
    "        self.pdfReader = PdfReader(resume_path)\n",
    "        self.text = self.pdfReader.pages[0].extract_text()"
   ]
  },
  {
   "cell_type": "code",
   "execution_count": 17,
   "id": "a5379306-7086-4ce6-87a0-5014436482f4",
   "metadata": {},
   "outputs": [],
   "source": [
    "system_prompt = \"You are a resume checker and have internal knowledge about what the ATS (applicant tracking system) is identifying as needed when observing the uploaded resume\""
   ]
  },
  {
   "cell_type": "code",
   "execution_count": 64,
   "id": "1488f979-c83d-4fce-927b-e50fe438671f",
   "metadata": {},
   "outputs": [],
   "source": [
    "def user_prompt(website, resume):\n",
    "    user_prompt = f\"You are looking at a website titled: {website.title}\"\n",
    "    user_prompt += \"\\nPlease use this website to make key adjustments to the uploaded resume on hand. \\\n",
    "    I am the person looking to be hired by this company and would like to be given at least a fair chance to interview\\\n",
    "    Please suggest necessary changes and improvements in list format -- especially within the Projects or Experience sections.\\\n",
    "    Also, please make your suggestions using Markdown.\\n\\n\" \n",
    "    user_prompt += resume.text\n",
    "    return user_prompt\n",
    "    "
   ]
  },
  {
   "cell_type": "code",
   "execution_count": 65,
   "id": "ceb2f8f6-10bd-42b3-ab65-3cacd2c84fab",
   "metadata": {},
   "outputs": [],
   "source": [
    "def messages_for_user(website, resume):\n",
    "    return [\n",
    "        {\"role\": \"system\", \"content\": system_prompt},\n",
    "        {\"role\": \"user\", \"content\": user_prompt(website, resume)}\n",
    "    ]"
   ]
  },
  {
   "cell_type": "code",
   "execution_count": 69,
   "id": "c9030c5e-eb14-45b7-820d-3f4ca8566668",
   "metadata": {},
   "outputs": [],
   "source": [
    "def summarize(url):\n",
    "    website = Website(url)\n",
    "    resume = Resume('grier_resume.pdf')\n",
    "    response = openai.chat.completions.create(\n",
    "        model=\"gpt-4o-mini\",\n",
    "        messages=messages_for_user(website, resume)\n",
    "    )\n",
    "    return response.choices[0].message.content"
   ]
  },
  {
   "cell_type": "code",
   "execution_count": 70,
   "id": "f3b7dd19-946d-411f-8036-260f5ff35bba",
   "metadata": {},
   "outputs": [],
   "source": [
    "def display_summary(url):\n",
    "    summary = summarize(url)\n",
    "    display(Markdown(summary))"
   ]
  },
  {
   "cell_type": "code",
   "execution_count": 71,
   "id": "d32eae4d-1222-407a-9cbe-3f66f2e69b02",
   "metadata": {},
   "outputs": [
    {
     "name": "stdout",
     "output_type": "stream",
     "text": [
      "https://search-careers.gm.com/en/jobs/jr-202500570/data-scientist\n"
     ]
    },
    {
     "data": {
      "text/markdown": [
       "Here are some suggested changes and improvements to your resume to enhance its effectiveness for the Data Scientist position at General Motors. The focus is on aligning your experience and projects with the relevant skills and qualifications commonly sought in data science roles. \n",
       "\n",
       "### Suggested Changes\n",
       "\n",
       "#### 1. **Objective Statement**\n",
       "   - Add a brief objective statement at the top of your resume to clarify your career goals and emphasize your interest in the Data Scientist position.\n",
       "\n",
       "   **Example:**\n",
       "   ```markdown\n",
       "   **Objective:** Data-driven software engineer with a passion for leveraging machine learning and analytics to solve complex problems. Seeking to contribute my expertise in data processing and software development to General Motors as a Data Scientist.\n",
       "   ```\n",
       "\n",
       "#### 2. **Skills Section**\n",
       "   - Include a dedicated skills section that highlights relevant data science skills such as data analysis, machine learning, statistical analysis, and visualization tools.\n",
       "   - Specify your proficiency in Python libraries like Pandas, NumPy, and any machine learning frameworks (e.g., Scikit-learn, TensorFlow).\n",
       "\n",
       "   **Example:**\n",
       "   ```markdown\n",
       "   **Skills:**\n",
       "   - Data Analysis: Pandas, NumPy\n",
       "   - Machine Learning: Scikit-learn, TensorFlow\n",
       "   - Data Visualization: Matplotlib, Seaborn, Tableau\n",
       "   - Languages: Java, Python, JavaScript\n",
       "   - Databases: PostgreSQL, MySQL, Firebase\n",
       "   - Tools: Azure DevOps, Git, Jupyter Notebooks\n",
       "   ```\n",
       "\n",
       "#### 3. **Projects Section**\n",
       "   - Create a dedicated **Projects** section to highlight any relevant data science projects. This can showcase your hands-on experience with data analysis or machine learning.\n",
       "\n",
       "   **Example:**\n",
       "   ```markdown\n",
       "   **Projects:**\n",
       "   - **Customer Churn Prediction Model:** Developed a machine learning model using Python and Scikit-learn to predict customer churn based on historical usage data, achieving an accuracy of 85%. Visualized results with Matplotlib and Seaborn for stakeholder presentations.\n",
       "   - **Sales Forecasting Dashboard:** Built an interactive sales forecasting dashboard using Flask and JavaScript, integrating historical sales data with predictive analytics to aid in inventory management decision-making.\n",
       "   ```\n",
       "\n",
       "#### 4. **Experience Section Adjustments**\n",
       "   - Focus on quantifying your achievements and explicitly linking them to data science or analysis, if applicable. Use language that emphasizes results, especially in how you handled data and drew insights.\n",
       "\n",
       "   **Example Adjustments:**\n",
       "   ```markdown\n",
       "   **Software Engineer, General Motors - Austin, TX**  \n",
       "   *May 2023 - Present*  \n",
       "   - Enhanced PCAR/PCAT application by integrating a major new data object, performing in-depth data analysis and architectural updates on 9 Java microservices and PostgreSQL schema changes.\n",
       "   - Developed a Python validation tool using OpenPyXL to automate data validation processes, resulting in a 50% reduction in manual validation time for business partners.\n",
       "   - Managed Flask Python microservices, enabling data collection and analytics that improved application performance metrics.\n",
       "\n",
       "   **Lead Software Engineer, General Motors - Austin, TX**  \n",
       "   *May 2021 - Aug 2023*  \n",
       "   - Led a team of 5 in developing an application that automated data retrieval processes, saving over 10,000 hours of manual work annually for business partners by leveraging data-driven solutions.\n",
       "   - Designed and implemented RESTful APIs using Swagger documentation, enabling seamless data integration and access for analytical applications.\n",
       "   ```\n",
       "\n",
       "#### 5. **Education Section**\n",
       "   - Add coursework or relevant projects relating to data science within your degrees, if applicable.\n",
       "\n",
       "   **Example:**\n",
       "   ```markdown\n",
       "   **EDUCATION**  \n",
       "   Northeastern University, M.S. in Computer Science  \n",
       "   *Sept 2018 - April 2021*  \n",
       "   Relevant Coursework: Data Science, Machine Learning, Database Systems, Statistical Methods\n",
       "\n",
       "   California Maritime Academy, B.S. in Business Administration  \n",
       "   *Apr 2018*\n",
       "   ```\n",
       "\n",
       "### Final Thoughts\n",
       "Ensure that your resume is visually clean, with consistent formatting. Use bullet points for accomplishments and maintain a focus on data-related tasks where possible. Tailoring your resume in this way will help to align your experience with the Data Scientist role at General Motors and improve your chances of landing an interview."
      ],
      "text/plain": [
       "<IPython.core.display.Markdown object>"
      ]
     },
     "metadata": {},
     "output_type": "display_data"
    }
   ],
   "source": [
    "display_summary('https://search-careers.gm.com/en/jobs/jr-202500570/data-scientist')"
   ]
  },
  {
   "cell_type": "code",
   "execution_count": null,
   "id": "528ab8f0-adfb-40da-9e8a-71f7b9bd7399",
   "metadata": {},
   "outputs": [],
   "source": []
  }
 ],
 "metadata": {
  "kernelspec": {
   "display_name": "Python 3 (ipykernel)",
   "language": "python",
   "name": "python3"
  },
  "language_info": {
   "codemirror_mode": {
    "name": "ipython",
    "version": 3
   },
   "file_extension": ".py",
   "mimetype": "text/x-python",
   "name": "python",
   "nbconvert_exporter": "python",
   "pygments_lexer": "ipython3",
   "version": "3.11.13"
  }
 },
 "nbformat": 4,
 "nbformat_minor": 5
}
